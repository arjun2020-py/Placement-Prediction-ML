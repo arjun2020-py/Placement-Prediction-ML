{
 "cells": [
  {
   "cell_type": "code",
   "execution_count": 1,
   "id": "binding-glance",
   "metadata": {},
   "outputs": [],
   "source": [
    "import warnings\n",
    "warnings.filterwarnings('ignore')\n",
    "\n",
    "import ipywidgets as widgets\n",
    "from IPython.display import display, clear_output\n",
    "from ipywidgets import Layout, Box, Dropdown, Label"
   ]
  },
  {
   "cell_type": "code",
   "execution_count": 3,
   "id": "reflected-speaker",
   "metadata": {},
   "outputs": [],
   "source": [
    "# Image Widget\n",
    "\n",
    "file = open(\"Placement.jpg\", \"rb\")\n",
    "image = file.read()\n",
    "\n",
    "image_headline = widgets.Image(\n",
    "                    value=image,\n",
    "                    format='jpg',\n",
    "                    width='300'\n",
    "                )\n",
    "vbox_headline = widgets.VBox([image_headline])"
   ]
  },
  {
   "cell_type": "code",
   "execution_count": 4,
   "id": "bearing-lover",
   "metadata": {},
   "outputs": [],
   "source": [
    "# name\n",
    "\n",
    "age = widgets.Text(placeholder='Enter Your Age here')\n",
    "internship = widgets.Text(placeholder='Enter number of Internships')\n",
    "cgpa = widgets.Text(placeholder='Enter your cgpa')\n",
    "backlogs = widgets.Text(placeholder='Enter your number of backlogs')"
   ]
  },
  {
   "cell_type": "code",
   "execution_count": 5,
   "id": "reverse-belfast",
   "metadata": {},
   "outputs": [],
   "source": [
    "# grandson/granddaughter\n",
    "\n",
    "gender = widgets.ToggleButtons(\n",
    "            options=['Male', 'Female']\n",
    "        )\n",
    "\n",
    "hostel = widgets.ToggleButtons(\n",
    "            options=['Hosteler', 'Not Hosteler']\n",
    "        )"
   ]
  },
  {
   "cell_type": "code",
   "execution_count": 6,
   "id": "026fe04f",
   "metadata": {},
   "outputs": [],
   "source": [
    "form_item_stream = Layout(\n",
    "    \n",
    "      # Other vales of display:flex, grid\n",
    "    display='grid',  \n",
    "    \n",
    "      # Other values of flex_flow:row,column\n",
    "    flex_flow='row',  \n",
    "      \n",
    "      # Other values of align_items:\n",
    "      # center, flex-start, flex-end, stretch\n",
    "    align_items='flex-start',\n",
    "    width='100%'\n",
    ")\n",
    "form_items = [\n",
    "    Box([Label(value='stream'),\n",
    "         Dropdown(options=['Computer Science',\n",
    "                           'Electronics And Communication', \n",
    "                           'Information Technology',\n",
    "                           'Mechanical',\n",
    "                           'Electrical'])], \n",
    "        layout=form_item_stream)\n",
    "]\n",
    "dropdown = Box(form_items, layout=Layout(\n",
    "    display='flex',  \n",
    "    flex_flow='column',  \n",
    "    border='solid 2px',\n",
    "    align_items='center',\n",
    "    width='100%'\n",
    "))"
   ]
  },
  {
   "cell_type": "code",
   "execution_count": 7,
   "id": "thorough-royal",
   "metadata": {},
   "outputs": [],
   "source": [
    "# button send\n",
    "\n",
    "button_send = widgets.Button(\n",
    "                description='Submit',\n",
    "                tooltip='Send',\n",
    "                style={'description_width': 'initial'}\n",
    "            )\n",
    "\n",
    "output = widgets.Output()\n",
    "\n",
    "def on_button_clicked(event):\n",
    "    with output:\n",
    "        clear_output()\n",
    "        print(\"Sent message: \")\n",
    "        print(f\"Dear Grandma! This is your favourite {grand.value}, {name.value}.\")\n",
    "        print(f\"I would love to come over on {date.value} for dinner, if that's okay for you!\")\n",
    "        print(f\"Also, if you don't mind, I'll bring along {friends.value} hungry ghosts for your delicious food!\")\n",
    "\n",
    "button_send.on_click(on_button_clicked)\n",
    "\n",
    "vbox_result = widgets.VBox([button_send, output])"
   ]
  },
  {
   "cell_type": "code",
   "execution_count": 8,
   "id": "guilty-ending",
   "metadata": {},
   "outputs": [],
   "source": [
    "# stacked right hand side\n",
    "\n",
    "t0= widgets.HTML(value=\"<h1>Placement Prediction Using ML</h1>\")\n",
    "t1 = widgets.HTML(value=\"<h2>Age</h2>\")\n",
    "t2= widgets.HTML(value=\"<h2>Gender</h2>\")\n",
    "t3= widgets.HTML(value=\"<h2>Stream</h2>\")\n",
    "t4= widgets.HTML(value=\"<h2>Internships</h2>\")\n",
    "t5= widgets.HTML(value=\"<h2>CGPA</h2>\")\n",
    "t6= widgets.HTML(value=\"<h2>Hosteler?</h2>\")\n",
    "t7= widgets.HTML(value=\"<h2>History of backlogs</h2>\")\n",
    "vbox_text = widgets.VBox([t0, t1, age, t2, gender, t3, dropdown, t4, internship, t5, cgpa, t6, hostel, t7, backlogs])"
   ]
  },
  {
   "cell_type": "code",
   "execution_count": 9,
   "id": "earlier-saturday",
   "metadata": {},
   "outputs": [
    {
     "data": {
      "application/vnd.jupyter.widget-view+json": {
       "model_id": "e3a0b0016fd44555bc998abc03f2b328",
       "version_major": 2,
       "version_minor": 0
      },
      "text/plain": [
       "VBox(children=(VBox(children=(Image(value=b'\\xff\\xd8\\xff\\xe0\\x00\\x10JFIF\\x00\\x01\\x01\\x01\\x00H\\x00H\\x00\\x00\\xff…"
      ]
     },
     "metadata": {},
     "output_type": "display_data"
    }
   ],
   "source": [
    "page = widgets.VBox([vbox_headline, vbox_text, vbox_result])\n",
    "def VBox(*pargs, **kwargs):\n",
    "    \"\"\"Displays multiple widgets vertically using the flexible box model.\"\"\"\n",
    "    box = Box(*pargs, **kwargs)\n",
    "    box.layout.display = 'flex'\n",
    "    box.layout.flex_flow = 'column'\n",
    "    box.layout.align_items = 'stretch'\n",
    "    box.layout.justify_content = 'center'\n",
    "    return box\n",
    "display(page)"
   ]
  },
  {
   "cell_type": "code",
   "execution_count": 2,
   "id": "0abbda9e",
   "metadata": {},
   "outputs": [],
   "source": [
    "!pip freeze > requirements.txt"
   ]
  },
  {
   "cell_type": "code",
   "execution_count": null,
   "id": "a981c46a",
   "metadata": {},
   "outputs": [],
   "source": []
  }
 ],
 "metadata": {
  "kernelspec": {
   "display_name": "Python 3 (ipykernel)",
   "language": "python",
   "name": "python3"
  },
  "language_info": {
   "codemirror_mode": {
    "name": "ipython",
    "version": 3
   },
   "file_extension": ".py",
   "mimetype": "text/x-python",
   "name": "python",
   "nbconvert_exporter": "python",
   "pygments_lexer": "ipython3",
   "version": "3.10.4"
  }
 },
 "nbformat": 4,
 "nbformat_minor": 5
}
